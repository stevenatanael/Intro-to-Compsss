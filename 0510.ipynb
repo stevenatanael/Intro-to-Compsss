{
  "nbformat": 4,
  "nbformat_minor": 0,
  "metadata": {
    "colab": {
      "provenance": [],
      "authorship_tag": "ABX9TyOZHEhFrTUVlO0BWrRG4e0h",
      "include_colab_link": true
    },
    "kernelspec": {
      "name": "python3",
      "display_name": "Python 3"
    },
    "language_info": {
      "name": "python"
    }
  },
  "cells": [
    {
      "cell_type": "markdown",
      "metadata": {
        "id": "view-in-github",
        "colab_type": "text"
      },
      "source": [
        "<a href=\"https://colab.research.google.com/github/stevenatanael/Intro-to-Compsss/blob/main/0510.ipynb\" target=\"_parent\"><img src=\"https://colab.research.google.com/assets/colab-badge.svg\" alt=\"Open In Colab\"/></a>"
      ]
    },
    {
      "cell_type": "code",
      "execution_count": 1,
      "metadata": {
        "colab": {
          "base_uri": "https://localhost:8080/"
        },
        "id": "WLG7ljMh5clv",
        "outputId": "9f5b9768-580a-42f1-9091-b7c4c5113c37"
      },
      "outputs": [
        {
          "output_type": "stream",
          "name": "stdout",
          "text": [
            "hi\n"
          ]
        }
      ],
      "source": [
        "print(\"hi\")"
      ]
    },
    {
      "cell_type": "code",
      "source": [
        "score=int(input(\"請輸入分數：\"))\n",
        "if score>=60:\n",
        "  print(\"及格\")\n",
        "else:\n",
        "  print(\"不及格\")"
      ],
      "metadata": {
        "colab": {
          "base_uri": "https://localhost:8080/"
        },
        "id": "x7Qhfpai5rJH",
        "outputId": "fc05035f-1f97-43e2-a96c-1a4fb7dca967"
      },
      "execution_count": 2,
      "outputs": [
        {
          "output_type": "stream",
          "name": "stdout",
          "text": [
            "請輸入分數：40\n",
            "不及格\n"
          ]
        }
      ]
    },
    {
      "cell_type": "code",
      "source": [
        "code=int(input(\"請輸入密碼\"))\n",
        "if code==1189:\n",
        "  print(\"歡迎光臨\")"
      ],
      "metadata": {
        "colab": {
          "base_uri": "https://localhost:8080/"
        },
        "id": "OxJiyehq5vR7",
        "outputId": "21cc5134-fbf2-46e5-90b4-65ab25fdf0e4"
      },
      "execution_count": 3,
      "outputs": [
        {
          "name": "stdout",
          "output_type": "stream",
          "text": [
            "請輸入密碼1030\n"
          ]
        }
      ]
    },
    {
      "cell_type": "code",
      "source": [
        "password=int(input(\"請輸入密碼\"))\n",
        "if password==1020:\n",
        "  print(\"歡迎光臨\")\n",
        "else:\n",
        "  print(\"密碼錯誤\")"
      ],
      "metadata": {
        "colab": {
          "base_uri": "https://localhost:8080/"
        },
        "id": "jwuU8Y_E52l0",
        "outputId": "6eec7c22-4c0a-4a0a-bbf8-ca9ed0cbadf3"
      },
      "execution_count": 4,
      "outputs": [
        {
          "output_type": "stream",
          "name": "stdout",
          "text": [
            "請輸入密碼1234\n",
            "密碼錯誤\n"
          ]
        }
      ]
    },
    {
      "cell_type": "code",
      "source": [
        "a=int(input(\"請輸入正整數\"))\n",
        "if a%2==0:\n",
        "  print(\"偶數\")\n",
        "else:\n",
        "  print(\"奇數\")"
      ],
      "metadata": {
        "colab": {
          "base_uri": "https://localhost:8080/"
        },
        "id": "FB6zSieO5603",
        "outputId": "c3559631-c235-4d53-f090-d820c6ebf982"
      },
      "execution_count": 5,
      "outputs": [
        {
          "output_type": "stream",
          "name": "stdout",
          "text": [
            "請輸入正整數5\n",
            "奇數\n"
          ]
        }
      ]
    },
    {
      "cell_type": "code",
      "source": [
        "rain=str(input(\"今天會下雨嗎？\"))\n",
        "if (rain==\"Y\" or rain==\"y\"):\n",
        "  print(\"記得帶傘\")\n",
        "else:\n",
        "  print(\"不用帶傘\")"
      ],
      "metadata": {
        "colab": {
          "base_uri": "https://localhost:8080/"
        },
        "id": "7veqGNuG5_6c",
        "outputId": "4e8c69fe-114d-44c6-e9f8-32ea3b57cb69"
      },
      "execution_count": 6,
      "outputs": [
        {
          "output_type": "stream",
          "name": "stdout",
          "text": [
            "今天會下雨嗎？q\n",
            "不用帶傘\n"
          ]
        }
      ]
    }
  ]
}